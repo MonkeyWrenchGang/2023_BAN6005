{
  "nbformat": 4,
  "nbformat_minor": 0,
  "metadata": {
    "colab": {
      "provenance": [],
      "authorship_tag": "ABX9TyOdDTi/HbNP/mqZ7BpkLruq",
      "include_colab_link": true
    },
    "kernelspec": {
      "name": "python3",
      "display_name": "Python 3"
    },
    "language_info": {
      "name": "python"
    }
  },
  "cells": [
    {
      "cell_type": "markdown",
      "metadata": {
        "id": "view-in-github",
        "colab_type": "text"
      },
      "source": [
        "<a href=\"https://colab.research.google.com/github/MonkeyWrenchGang/2023_BAN6005/blob/main/module_1/1_11_Real_world_Dictionaries_and_Lists.ipynb\" target=\"_parent\"><img src=\"https://colab.research.google.com/assets/colab-badge.svg\" alt=\"Open In Colab\"/></a>"
      ]
    },
    {
      "cell_type": "markdown",
      "source": [
        "# Real-world Dictionaries and Lists\n",
        "\n",
        "\n",
        "---\n",
        "\n",
        "## Introduction to Twitter and POTUS Tweets:\n",
        "\n",
        "Twitter is a whacy social media platform that allows users, companies, and bots to share and interact with short messages called \"tweets\" - yes you may have heard of these!\n",
        "\n",
        "One significant aspect of Twitter is the ability to follow and engage with various public figures, including politicians. One notable Twitter user is the President of the United States (POTUS). The POTUS Twitter account serves as the primary channel for the current President to communicate directly with the public, share updates, express opinions, and make official statements.\n",
        "\n",
        "Here are some key points about Twitter and POTUS tweets:\n",
        "\n",
        "- Tweet: A tweet is a message posted on Twitter, consisting of up to 280 characters. It can contain text, links, hashtags, mentions, images, videos, and other media.\n",
        "\n",
        "- Retweet: Users can share someone else's tweet by retweeting it, which reposts the original tweet on their own timeline for their followers to see.\n",
        "\n",
        "- Like and Reply: Users can show their appreciation for a tweet by liking it or respond to a tweet by replying to it.\n",
        "\n",
        "- Hashtags: Hashtags are words or phrases preceded by the # symbol, help in organizing conversations and identifying trending topics.\n",
        "\n",
        "- Mentions: Users can mention other users in their tweets by using the @ symbol followed by their username. Mentions notify the mentioned user and allow for direct communication and engagement.\n",
        "\n",
        "When it comes to POTUS tweets, they have significant public attention due to their potential impact on policy, public opinion, and media coverage.\n",
        "\n",
        "It's worth noting that tweets from the POTUS account and other public figures can be subject to scrutiny, fact-checking, and debate."
      ],
      "metadata": {
        "id": "sk_wrqgia0vh"
      }
    },
    {
      "cell_type": "markdown",
      "source": [
        "## Let's look at some recent Tweets!\n",
        "\n",
        "\n",
        "---\n",
        "\n",
        "I've downloaded 100 POTUS tweets from twitter. let's take a look at them!\n",
        "\n",
        "the following code will download my extract to your notebook to analyze!"
      ],
      "metadata": {
        "id": "vsPc8Eckb_Pd"
      }
    },
    {
      "cell_type": "code",
      "execution_count": 2,
      "metadata": {
        "colab": {
          "base_uri": "https://localhost:8080/"
        },
        "id": "FTcbW8DBVQtn",
        "outputId": "de85a218-39e2-47ff-de3a-fc129c89b034"
      },
      "outputs": [
        {
          "output_type": "stream",
          "name": "stdout",
          "text": [
            "{'created_at': 'Sun Jul 09 18:04:00 +0000 2023', 'id': 1678102719473635330, 'id_str': '1678102719473635330', 'text': 'Federal investment attracts private investment.\\n\\nBecause of our historic CHIPS and Science Act, semiconductor compa… https://t.co/VfJoDJ3r9l', 'truncated': True, 'entities': {'hashtags': [], 'symbols': [], 'user_mentions': [], 'urls': [{'url': 'https://t.co/VfJoDJ3r9l', 'expanded_url': 'https://twitter.com/i/web/status/1678102719473635330', 'display_url': 'twitter.com/i/web/status/1…', 'indices': [117, 140]}]}, 'source': '<a href=\"https://www.sprinklr.com\" rel=\"nofollow\">The White House</a>', 'in_reply_to_status_id': None, 'in_reply_to_status_id_str': None, 'in_reply_to_user_id': None, 'in_reply_to_user_id_str': None, 'in_reply_to_screen_name': None, 'user': {'id': 1349149096909668363, 'id_str': '1349149096909668363', 'name': 'President Biden', 'screen_name': 'POTUS', 'location': '', 'description': '46th President of the United States, husband to @FLOTUS, proud dad & pop. Tweets may be archived: https://t.co/HDhBZBkKpU Text me: (302) 404-0880', 'url': 'https://t.co/GMISXhI3kd', 'entities': {'url': {'urls': [{'url': 'https://t.co/GMISXhI3kd', 'expanded_url': 'http://wh.gov/resources', 'display_url': 'wh.gov/resources', 'indices': [0, 23]}]}, 'description': {'urls': [{'url': 'https://t.co/HDhBZBkKpU', 'expanded_url': 'http://whitehouse.gov/privacy', 'display_url': 'whitehouse.gov/privacy', 'indices': [98, 121]}]}}, 'protected': False, 'followers_count': 31679989, 'friends_count': 13, 'listed_count': 25311, 'created_at': 'Wed Jan 13 00:37:08 +0000 2021', 'favourites_count': 16, 'utc_offset': None, 'time_zone': None, 'geo_enabled': False, 'verified': False, 'statuses_count': 6865, 'lang': None, 'contributors_enabled': False, 'is_translator': False, 'is_translation_enabled': False, 'profile_background_color': 'F5F8FA', 'profile_background_image_url': None, 'profile_background_image_url_https': None, 'profile_background_tile': False, 'profile_image_url': 'http://pbs.twimg.com/profile_images/1380530524779859970/TfwVAbyX_normal.jpg', 'profile_image_url_https': 'https://pbs.twimg.com/profile_images/1380530524779859970/TfwVAbyX_normal.jpg', 'profile_banner_url': 'https://pbs.twimg.com/profile_banners/1349149096909668363/1688749098', 'profile_link_color': '1DA1F2', 'profile_sidebar_border_color': 'C0DEED', 'profile_sidebar_fill_color': 'DDEEF6', 'profile_text_color': '333333', 'profile_use_background_image': True, 'has_extended_profile': True, 'default_profile': True, 'default_profile_image': False, 'following': False, 'follow_request_sent': False, 'notifications': False, 'translator_type': 'none', 'withheld_in_countries': []}, 'geo': None, 'coordinates': None, 'place': None, 'contributors': None, 'is_quote_status': False, 'retweet_count': 723, 'favorite_count': 2930, 'favorited': False, 'retweeted': False, 'lang': 'en'}\n"
          ]
        }
      ],
      "source": [
        "import requests\n",
        "import pickle\n",
        "\n",
        "# Download the pickle file from the GitHub repository\n",
        "url = \"https://github.com/MonkeyWrenchGang/2023_BAN6005/raw/main/module_1/data/potus_tweet_dump.pkl\"\n",
        "response = requests.get(url)\n",
        "\n",
        "# Check if the download was successful\n",
        "if response.status_code == 200:\n",
        "    # Open the pickle file\n",
        "    potus_tweets = pickle.loads(response.content)\n",
        "\n",
        "    # Access the loaded data\n",
        "    print(potus_tweets[0])\n",
        "else:\n",
        "    print(\"Error downloading the pickle file.\")"
      ]
    },
    {
      "cell_type": "markdown",
      "source": [
        "## How many Tweets?"
      ],
      "metadata": {
        "id": "VvdE--nOcPlj"
      }
    },
    {
      "cell_type": "code",
      "source": [
        "len(potus_tweets)"
      ],
      "metadata": {
        "colab": {
          "base_uri": "https://localhost:8080/"
        },
        "id": "yciiVHF3aw_F",
        "outputId": "77f50457-eec3-4889-a7f0-1eb8699c1488"
      },
      "execution_count": 4,
      "outputs": [
        {
          "output_type": "execute_result",
          "data": {
            "text/plain": [
              "100"
            ]
          },
          "metadata": {},
          "execution_count": 4
        }
      ]
    },
    {
      "cell_type": "markdown",
      "source": [
        "## What Type\n"
      ],
      "metadata": {
        "id": "xBow_67zcRtD"
      }
    },
    {
      "cell_type": "code",
      "source": [
        "type(potus_tweets)"
      ],
      "metadata": {
        "colab": {
          "base_uri": "https://localhost:8080/"
        },
        "id": "PbZK0cFKcS3y",
        "outputId": "cb859ba6-4351-464d-a8b8-0e3b67064370"
      },
      "execution_count": 5,
      "outputs": [
        {
          "output_type": "execute_result",
          "data": {
            "text/plain": [
              "list"
            ]
          },
          "metadata": {},
          "execution_count": 5
        }
      ]
    },
    {
      "cell_type": "markdown",
      "source": [
        "## If it's a list what does an Entry look Like?\n",
        "\n"
      ],
      "metadata": {
        "id": "cxjEe4LZcUpU"
      }
    },
    {
      "cell_type": "code",
      "source": [
        "potus_tweets[0]"
      ],
      "metadata": {
        "colab": {
          "base_uri": "https://localhost:8080/"
        },
        "id": "KPTbyLYncXzH",
        "outputId": "07144e3a-c65e-4bef-d56e-4c260fec433e"
      },
      "execution_count": 6,
      "outputs": [
        {
          "output_type": "execute_result",
          "data": {
            "text/plain": [
              "{'created_at': 'Sun Jul 09 18:04:00 +0000 2023',\n",
              " 'id': 1678102719473635330,\n",
              " 'id_str': '1678102719473635330',\n",
              " 'text': 'Federal investment attracts private investment.\\n\\nBecause of our historic CHIPS and Science Act, semiconductor compa… https://t.co/VfJoDJ3r9l',\n",
              " 'truncated': True,\n",
              " 'entities': {'hashtags': [],\n",
              "  'symbols': [],\n",
              "  'user_mentions': [],\n",
              "  'urls': [{'url': 'https://t.co/VfJoDJ3r9l',\n",
              "    'expanded_url': 'https://twitter.com/i/web/status/1678102719473635330',\n",
              "    'display_url': 'twitter.com/i/web/status/1…',\n",
              "    'indices': [117, 140]}]},\n",
              " 'source': '<a href=\"https://www.sprinklr.com\" rel=\"nofollow\">The White House</a>',\n",
              " 'in_reply_to_status_id': None,\n",
              " 'in_reply_to_status_id_str': None,\n",
              " 'in_reply_to_user_id': None,\n",
              " 'in_reply_to_user_id_str': None,\n",
              " 'in_reply_to_screen_name': None,\n",
              " 'user': {'id': 1349149096909668363,\n",
              "  'id_str': '1349149096909668363',\n",
              "  'name': 'President Biden',\n",
              "  'screen_name': 'POTUS',\n",
              "  'location': '',\n",
              "  'description': '46th President of the United States, husband to @FLOTUS, proud dad & pop. Tweets may be archived: https://t.co/HDhBZBkKpU Text me: (302) 404-0880',\n",
              "  'url': 'https://t.co/GMISXhI3kd',\n",
              "  'entities': {'url': {'urls': [{'url': 'https://t.co/GMISXhI3kd',\n",
              "      'expanded_url': 'http://wh.gov/resources',\n",
              "      'display_url': 'wh.gov/resources',\n",
              "      'indices': [0, 23]}]},\n",
              "   'description': {'urls': [{'url': 'https://t.co/HDhBZBkKpU',\n",
              "      'expanded_url': 'http://whitehouse.gov/privacy',\n",
              "      'display_url': 'whitehouse.gov/privacy',\n",
              "      'indices': [98, 121]}]}},\n",
              "  'protected': False,\n",
              "  'followers_count': 31679989,\n",
              "  'friends_count': 13,\n",
              "  'listed_count': 25311,\n",
              "  'created_at': 'Wed Jan 13 00:37:08 +0000 2021',\n",
              "  'favourites_count': 16,\n",
              "  'utc_offset': None,\n",
              "  'time_zone': None,\n",
              "  'geo_enabled': False,\n",
              "  'verified': False,\n",
              "  'statuses_count': 6865,\n",
              "  'lang': None,\n",
              "  'contributors_enabled': False,\n",
              "  'is_translator': False,\n",
              "  'is_translation_enabled': False,\n",
              "  'profile_background_color': 'F5F8FA',\n",
              "  'profile_background_image_url': None,\n",
              "  'profile_background_image_url_https': None,\n",
              "  'profile_background_tile': False,\n",
              "  'profile_image_url': 'http://pbs.twimg.com/profile_images/1380530524779859970/TfwVAbyX_normal.jpg',\n",
              "  'profile_image_url_https': 'https://pbs.twimg.com/profile_images/1380530524779859970/TfwVAbyX_normal.jpg',\n",
              "  'profile_banner_url': 'https://pbs.twimg.com/profile_banners/1349149096909668363/1688749098',\n",
              "  'profile_link_color': '1DA1F2',\n",
              "  'profile_sidebar_border_color': 'C0DEED',\n",
              "  'profile_sidebar_fill_color': 'DDEEF6',\n",
              "  'profile_text_color': '333333',\n",
              "  'profile_use_background_image': True,\n",
              "  'has_extended_profile': True,\n",
              "  'default_profile': True,\n",
              "  'default_profile_image': False,\n",
              "  'following': False,\n",
              "  'follow_request_sent': False,\n",
              "  'notifications': False,\n",
              "  'translator_type': 'none',\n",
              "  'withheld_in_countries': []},\n",
              " 'geo': None,\n",
              " 'coordinates': None,\n",
              " 'place': None,\n",
              " 'contributors': None,\n",
              " 'is_quote_status': False,\n",
              " 'retweet_count': 723,\n",
              " 'favorite_count': 2930,\n",
              " 'favorited': False,\n",
              " 'retweeted': False,\n",
              " 'lang': 'en'}"
            ]
          },
          "metadata": {},
          "execution_count": 6
        }
      ]
    },
    {
      "cell_type": "markdown",
      "source": [
        "### Dear lord that's a lot\n",
        "\n",
        "what is an entry?"
      ],
      "metadata": {
        "id": "t0u-y66FcaOB"
      }
    },
    {
      "cell_type": "code",
      "source": [
        "type(potus_tweets[0])"
      ],
      "metadata": {
        "colab": {
          "base_uri": "https://localhost:8080/"
        },
        "id": "S0Q1pwJ6ceE-",
        "outputId": "5569f0a9-c12c-4cc0-88c3-67b81e12a90c"
      },
      "execution_count": 7,
      "outputs": [
        {
          "output_type": "execute_result",
          "data": {
            "text/plain": [
              "dict"
            ]
          },
          "metadata": {},
          "execution_count": 7
        }
      ]
    },
    {
      "cell_type": "markdown",
      "source": [
        "## What are the Keys?"
      ],
      "metadata": {
        "id": "djqLp_5Ecg6q"
      }
    },
    {
      "cell_type": "code",
      "source": [
        "potus_tweets[0].keys()"
      ],
      "metadata": {
        "colab": {
          "base_uri": "https://localhost:8080/"
        },
        "id": "_7KYa6TNcgC8",
        "outputId": "c1a6274b-988b-4eb4-ffaa-b0a0f80f72a8"
      },
      "execution_count": 9,
      "outputs": [
        {
          "output_type": "execute_result",
          "data": {
            "text/plain": [
              "dict_keys(['created_at', 'id', 'id_str', 'text', 'truncated', 'entities', 'source', 'in_reply_to_status_id', 'in_reply_to_status_id_str', 'in_reply_to_user_id', 'in_reply_to_user_id_str', 'in_reply_to_screen_name', 'user', 'geo', 'coordinates', 'place', 'contributors', 'is_quote_status', 'retweet_count', 'favorite_count', 'favorited', 'retweeted', 'lang'])"
            ]
          },
          "metadata": {},
          "execution_count": 9
        }
      ]
    },
    {
      "cell_type": "markdown",
      "source": [
        "## how many followers did POTUS have on tweet 10?\n",
        "\n",
        "\n",
        "---\n",
        "\n"
      ],
      "metadata": {
        "id": "ryLEUIFMcrNA"
      }
    },
    {
      "cell_type": "code",
      "source": [],
      "metadata": {
        "id": "UAM1fyK5cx3m"
      },
      "execution_count": null,
      "outputs": []
    }
  ]
}