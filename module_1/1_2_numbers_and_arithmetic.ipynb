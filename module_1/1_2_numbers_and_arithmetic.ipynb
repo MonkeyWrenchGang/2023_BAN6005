{
  "nbformat": 4,
  "nbformat_minor": 0,
  "metadata": {
    "colab": {
      "provenance": [],
      "authorship_tag": "ABX9TyORSCigiR6bbR5MVS+JncJ4",
      "include_colab_link": true
    },
    "kernelspec": {
      "name": "python3",
      "display_name": "Python 3"
    },
    "language_info": {
      "name": "python"
    }
  },
  "cells": [
    {
      "cell_type": "markdown",
      "metadata": {
        "id": "view-in-github",
        "colab_type": "text"
      },
      "source": [
        "<a href=\"https://colab.research.google.com/github/MonkeyWrenchGang/2023_BAN6005/blob/main/module_1/1_2_numbers_and_arithmetic.ipynb\" target=\"_parent\"><img src=\"https://colab.research.google.com/assets/colab-badge.svg\" alt=\"Open In Colab\"/></a>"
      ]
    },
    {
      "cell_type": "markdown",
      "source": [
        "# Introduction to Python Numbers and Arithmetic\n",
        "\n",
        "Python provides powerful capabilities for working with numbers and performing arithmetic operations. In this notebook, we will explore the basics of Python numbers, including different types of numbers and the operations that can be performed on them.\n",
        "\n",
        "## Number Types in Python\n",
        "\n",
        "Python supports various types of numbers, including:\n",
        "\n",
        "- Integers (`int`): Whole numbers without a fractional part.\n",
        "- Floating-point numbers (`float`): Numbers with a fractional part.\n",
        "\n",
        "## Arithmetic Operations\n",
        "\n",
        "Python provides a set of arithmetic operators to perform mathematical computations on numbers:\n",
        "\n",
        "- Addition (`+`): Adds two numbers together.\n",
        "- Subtraction (`-`): Subtracts one number from another.\n",
        "- Multiplication (`*`): Multiplies two numbers.\n",
        "- Division (`/`): Divides one number by another.\n",
        "- Floor Division (`//`): Performs integer division, discarding the fractional part.\n",
        "- Modulo (`%`): Calculates the remainder of division.\n",
        "- Exponentiation (`**`): Raises a number to the power of another.\n",
        "\n",
        "## Numeric Functions\n",
        "\n",
        "Python also offers built-in functions and modules for performing common numeric operations:\n",
        "\n",
        "- `abs()`: Returns the absolute value of a number.\n",
        "- `round()`: Rounds a number to a specified number of decimal places.\n",
        "- `math` module: Provides additional mathematical functions and constants.\n",
        "\n",
        "Throughout this notebook, we will explore examples and exercises to reinforce our understanding of Python numbers and arithmetic operations.\n",
        "\n",
        "Let's dive into the fascinating world of Python numbers and arithmetic!\n",
        "\n",
        "\n"
      ],
      "metadata": {
        "id": "M2vu06TDgkiI"
      }
    },
    {
      "cell_type": "code",
      "source": [
        "# Addition\n",
        "x = 5 + 3\n",
        "print(\"Addition:\", x)  # Output: 8"
      ],
      "metadata": {
        "id": "Np35LPRYb7zN"
      },
      "execution_count": null,
      "outputs": []
    },
    {
      "cell_type": "code",
      "source": [
        "# Subtraction\n",
        "y = 10 - 2\n",
        "print(\"Subtraction:\", y)  # Output: 8"
      ],
      "metadata": {
        "id": "NzfqHX5db8q8"
      },
      "execution_count": null,
      "outputs": []
    },
    {
      "cell_type": "code",
      "source": [
        "# Multiplication\n",
        "z = 8 * 5\n",
        "print(\"Multiplication:\", z)  # Output: 40"
      ],
      "metadata": {
        "id": "4KPD85vxb8z1"
      },
      "execution_count": null,
      "outputs": []
    },
    {
      "cell_type": "code",
      "source": [
        "# Division\n",
        "a = 15 / 3\n",
        "print(\"Division:\", a)  # Output: 5.0"
      ],
      "metadata": {
        "id": "eAoEsP-Hb875"
      },
      "execution_count": null,
      "outputs": []
    },
    {
      "cell_type": "code",
      "source": [
        "# Exponentiation\n",
        "b = 2 ** 3\n",
        "print(\"Exponentiation:\", b)  # Output: 8"
      ],
      "metadata": {
        "id": "CV4qJLIwcGPr"
      },
      "execution_count": null,
      "outputs": []
    },
    {
      "cell_type": "code",
      "source": [
        "# Modulo\n",
        "c = 10 % 4\n",
        "print(\"Modulo:\", c)  # Output: 2"
      ],
      "metadata": {
        "colab": {
          "base_uri": "https://localhost:8080/"
        },
        "id": "tVq35tNucIvT",
        "outputId": "8525d139-a931-4540-9802-b1cbb5bd8435"
      },
      "execution_count": 2,
      "outputs": [
        {
          "output_type": "stream",
          "name": "stdout",
          "text": [
            "Modulo: 2\n"
          ]
        }
      ]
    },
    {
      "cell_type": "markdown",
      "source": [
        "# Type Conversion\n",
        "\n",
        "\n",
        "---\n",
        "\n",
        "- Float to Integer (float to int):\n",
        "Converting a floating-point number to an integer truncates the decimal part and returns the whole number. You can use the int() function to perform this conversion. Here's an example:\n",
        "```\n",
        "float_number = 3.75\n",
        "int_number = int(float_number)\n",
        "print(int_number)  # Output: 3\n",
        "```\n",
        "- Integer to Float (int to float):\n",
        "Converting an integer to a floating-point number adds a decimal part of .0 to the value. You can achieve this by using the float() function. Here's an example:\n",
        "```\n",
        "int_number = 50\n",
        "float_number = float(int_number)\n",
        "print(float_number)  # Output: 50.0\n",
        "```\n",
        "- Number to String (float or int to str):\n",
        "Converting a numeric value to a string allows you to manipulate it as text. You can accomplish this using the str() function. Here's an example:\n",
        "```\n",
        "number = 42\n",
        "number_as_string = str(number)\n",
        "print(number_as_string)  # Output: \"42\"\n",
        "```\n"
      ],
      "metadata": {
        "id": "Qu71UhhvhNDZ"
      }
    },
    {
      "cell_type": "code",
      "source": [
        "# Integer to float\n",
        "x = 5\n",
        "float_x = float(x)\n",
        "print(\"Integer to float  :\", float_x)  # Output: 5.0"
      ],
      "metadata": {
        "id": "wc8kZUvCcT75"
      },
      "execution_count": null,
      "outputs": []
    },
    {
      "cell_type": "code",
      "source": [
        "# Float to integer\n",
        "y = 3.14\n",
        "int_y = int(y)\n",
        "print(\"Float to integer  :\", int_y)  # Output: 3\n"
      ],
      "metadata": {
        "id": "HEAJqnoAcUZV"
      },
      "execution_count": null,
      "outputs": []
    },
    {
      "cell_type": "code",
      "source": [
        "# String to Integer\n",
        "z = \"50\"\n",
        "int_z = int(z)\n",
        "print(\"String to Integer :\", int_z )  # Output: 50"
      ],
      "metadata": {
        "id": "2RaVFXJHcUt4"
      },
      "execution_count": null,
      "outputs": []
    },
    {
      "cell_type": "code",
      "source": [
        "# String to Float\n",
        "a = \"5.123\"\n",
        "float_a = float(a)\n",
        "print(\"String to Float :\", float_a )  # Output: 5.123"
      ],
      "metadata": {
        "id": "iwSaaJ1vcUzo"
      },
      "execution_count": null,
      "outputs": []
    },
    {
      "cell_type": "markdown",
      "source": [
        "# Let's see a common conversion error\n",
        "\n",
        "\n",
        "---\n",
        "\n",
        "copy and paste the code below and run it.\n",
        "\n",
        "```python\n",
        "# String-Float to Int = Error\n",
        "a = \"5.123\"\n",
        "float_a = int(a)\n",
        "print(\"String-Float  to Integer:\", float_a )  # Output: Error\n",
        "```"
      ],
      "metadata": {
        "id": "amIKWon3i9f6"
      }
    },
    {
      "cell_type": "code",
      "source": [],
      "metadata": {
        "id": "0QOwXSHthsw3"
      },
      "execution_count": null,
      "outputs": []
    },
    {
      "cell_type": "markdown",
      "source": [
        "## Numeric Functions\n",
        "\n",
        "Python provides several built-in functions and modules for performing common numeric operations. Let's explore some of the key functions:\n",
        "\n",
        "### `abs()`\n",
        "\n",
        "The `abs()` function returns the absolute value of a number, which is its distance from zero. It ensures that the result is always positive, regardless of the input's sign.\n",
        "\n",
        "Example:\n",
        "```python\n",
        "abs(-5)  # Output: 5\n",
        "abs(3.14)  # Output: 3.14\n",
        "```\n",
        "\n",
        "Write a program to print out the absolute value of `-234.12`\n",
        "\n",
        "\n"
      ],
      "metadata": {
        "id": "0hJojbqSm6AQ"
      }
    },
    {
      "cell_type": "markdown",
      "source": [
        "## How can i round a number?\n",
        "\n",
        "The `round()` function in Python is used to round a numeric value to a specified number of digits or to the nearest whole number. It takes two parameters: the number to be rounded and an optional parameter for the number of decimal places (defaulting to 0 if not provided).\n",
        "\n",
        "```python\n",
        "rounded_number = round(number, num_digits)\n",
        "```\n",
        "For example:\n",
        "```python\n",
        "round(3.14159, 2)  # Output: 3.14\n",
        "round(3.5)  # Output: 4\n",
        "```\n",
        "write a program to round `10/3` to three decimals."
      ],
      "metadata": {
        "id": "lcR_mGxGnNvg"
      }
    },
    {
      "cell_type": "code",
      "source": [],
      "metadata": {
        "id": "o8XovPAhnNG6",
        "colab": {
          "base_uri": "https://localhost:8080/"
        },
        "outputId": "3216749a-a2b8-44ad-be27-d828cec68a27"
      },
      "execution_count": 3,
      "outputs": [
        {
          "output_type": "execute_result",
          "data": {
            "text/plain": [
              "3.3333333333333335"
            ]
          },
          "metadata": {},
          "execution_count": 3
        }
      ]
    },
    {
      "cell_type": "markdown",
      "source": [
        "## Math Module\n",
        "Python's `math` module provides additional mathematical functions and constants. To use functions from the math module, you need to import it first.\n",
        "\n",
        "```python\n",
        "import math\n",
        "\n",
        "math.sqrt(25)  # Output: 5.0\n",
        "math.sin(math.pi / 2)  # Output: 1.0\n",
        "\n",
        "```\n",
        "\n",
        "Some commonly used functions from the math module include `sqrt()` for square root, `sin()` for sine, `cos()` for cosine, `tan()` for tangent, and more.\n",
        "\n",
        "write a program that gives you the square root of 49\n",
        "\n",
        "```\n",
        "num = 49\n",
        "sqrt_num =\n",
        "print(\"the square root of \",num)\n",
        "print(\"is \",sqrt_num)\n",
        "```"
      ],
      "metadata": {
        "id": "WWmS33tMnOjX"
      }
    },
    {
      "cell_type": "code",
      "source": [],
      "metadata": {
        "id": "DXLHCr_WnO8m"
      },
      "execution_count": null,
      "outputs": []
    },
    {
      "cell_type": "markdown",
      "source": [
        "# Exercies\n",
        "\n",
        "\n",
        "---\n",
        "\n",
        "For each exercise, use the following structure to obtain user input, For example, in Exercise 1, you would write two input statements as follows:\n",
        "\n",
        "```python\n",
        "num1 = float(input(\"Enter the first number: \"))\n",
        "num2 = float(input(\"Enter the second number: \"))\n",
        "```"
      ],
      "metadata": {
        "id": "tjRCu3v9n-by"
      }
    },
    {
      "cell_type": "markdown",
      "source": [
        "# Exercise 1: Simple Calculator\n",
        "Write a program that prompts the user to enter two numbers and performs basic arithmetic operations:\n",
        "  - addition\n",
        "  - subtraction\n",
        "  - multiplication\n",
        "  - division\n",
        "print the results of each operation\n",
        "\n",
        "```python\n",
        "num1 = float(input(\"Enter the first number: \"))\n",
        "num2 = float(input(\"Enter the second number: \"))\n",
        "\n",
        "```\n",
        "\n",
        "print example\n",
        "```\n",
        "print(\"addition of num1 and num2 = \", res)\n",
        "```"
      ],
      "metadata": {
        "id": "H7lsDauEntnf"
      }
    },
    {
      "cell_type": "code",
      "source": [],
      "metadata": {
        "id": "F1RZc7KenzYs"
      },
      "execution_count": null,
      "outputs": []
    },
    {
      "cell_type": "markdown",
      "source": [
        "# Exercise 2: Area of a Circle\n",
        "\n",
        "Write a program that prompts the user for the radius of a circle\n",
        "```\n",
        "radius = float(input(\"what is the radius of the circle: \")\n",
        "```\n",
        "\n",
        "and calculates its **area** using the formula A = πr^2. Display the result with an appropriate message.\n",
        "\n",
        "```\n",
        "print(\"the area of a circle with a radius of\", radius)\n",
        "print(\"is:\", area\")\n",
        "```\n"
      ],
      "metadata": {
        "id": "o4uP2RTDnzhS"
      }
    },
    {
      "cell_type": "code",
      "source": [],
      "metadata": {
        "id": "J9v2brRHn3VS"
      },
      "execution_count": null,
      "outputs": []
    },
    {
      "cell_type": "markdown",
      "source": [
        "# Exercise 3: Celsius to Fahrenheit Conversion\n",
        "\n",
        "Write a program that prompts the user to enter a temperature in Celsius and converts it to Fahrenheit using the formula F = (C * 9/5) + 32. Display the result with an appropriate message.\n",
        "\n",
        "```\n",
        "temp_in_C = float(input(\"what is the temperature in Celsius: \")\n",
        "```\n",
        "\n",
        "print out the following:\n",
        "```\n",
        "print(\"the temp in C\", temp_in_C)\n",
        "print(\"converted to F is :\", temp_in_F)\n",
        "```"
      ],
      "metadata": {
        "id": "iIIF115hn3ep"
      }
    },
    {
      "cell_type": "code",
      "source": [],
      "metadata": {
        "id": "CiLfs-oXn7_f"
      },
      "execution_count": null,
      "outputs": []
    },
    {
      "cell_type": "markdown",
      "source": [
        "# Exercise 4: Simple Loan Payment Calculator\n",
        "\n",
        "Write a program that prompts the user to enter the principal amount, interest rate, and time (in years). Calculate the monthly payment for a loan using the formula M = (P * r * (1 + r)**n) / ((1 + r)**n - 1) and display the result with an appropriate message.\"\n",
        "\n",
        "```\n",
        "P = float(input(\"what is the principal amount of loan: \"))\n",
        "r = float(input(\"what is the interest rate of the loan: \"))\n",
        "n = float(input(\"what is number of years  for the loan: \"))\n",
        "```\n",
        "You'll need to calculate the following:\n",
        "\n",
        "`monthly_interest_rate = (r / 12) / 100`\n",
        "`number_of_payments = n * 12`\n",
        "\n",
        "```\n",
        "monthly_payment = (P * monthly_interest_rate * (1 + monthly_interest_rate)**number_of_payments) / ((1 + monthly_interest_rate)**number_of_payments - 1)\n",
        "```\n",
        "\n",
        "Then print:\n",
        "```\n",
        "print(\"The monthly payment is:\", monthly_payment)\n",
        "```\n",
        "\n"
      ],
      "metadata": {
        "id": "H24PBJDbn8OS"
      }
    },
    {
      "cell_type": "code",
      "source": [
        "# Ex 1.\n",
        "num1 = float(input(\"Enter the first number: \"))\n",
        "num2 = float(input(\"Enter the second number: \"))\n",
        "\n",
        "addition = num1 + num2\n",
        "subtraction = num1 - num2\n",
        "multiplication = num1 * num2\n",
        "division = num1 / num2\n",
        "\n",
        "print(\"Addition:\", addition)\n",
        "print(\"Subtraction:\", subtraction)\n",
        "print(\"Multiplication:\", multiplication)\n",
        "print(\"Division:\", division)\n"
      ],
      "metadata": {
        "id": "YqW-SMt9oLHL"
      },
      "execution_count": null,
      "outputs": []
    },
    {
      "cell_type": "code",
      "source": [
        "# Ex 2.\n",
        "import math\n",
        "\n",
        "radius = float(input(\"Enter the radius of the circle: \"))\n",
        "\n",
        "area = math.pi * radius**2\n",
        "\n",
        "print(\"The area of the circle is:\", area)\n"
      ],
      "metadata": {
        "id": "xOB0OeguoNTy"
      },
      "execution_count": null,
      "outputs": []
    },
    {
      "cell_type": "code",
      "source": [
        "# Ex 3.\n",
        "celsius = float(input(\"Enter the temperature in Celsius: \"))\n",
        "\n",
        "fahrenheit = (celsius * 9/5) + 32\n",
        "\n",
        "print(\"The temperature in Fahrenheit is:\", fahrenheit)\n"
      ],
      "metadata": {
        "id": "p1WBpg_JoR_i"
      },
      "execution_count": null,
      "outputs": []
    },
    {
      "cell_type": "code",
      "source": [
        "# Ex 4.\n",
        "P = float(input(\"What is the principal amount of the loan: \"))\n",
        "r = float(input(\"What is the interest rate of the loan: \"))\n",
        "n = float(input(\"What is the number of years for the loan: \"))\n",
        "\n",
        "monthly_interest_rate = (r / 12) / 100\n",
        "number_of_payments = n * 12\n",
        "\n",
        "monthly_payment = (P * monthly_interest_rate * (1 + monthly_interest_rate)**number_of_payments) / ((1 + monthly_interest_rate)**number_of_payments - 1)\n",
        "\n",
        "print(\"The monthly payment is:\", monthly_payment)\n",
        "\n"
      ],
      "metadata": {
        "id": "fV9dvVQEoWo-"
      },
      "execution_count": null,
      "outputs": []
    }
  ]
}