{
  "nbformat": 4,
  "nbformat_minor": 0,
  "metadata": {
    "colab": {
      "provenance": [],
      "authorship_tag": "ABX9TyMsX1nn/yjmaV6rAGMYxb3x",
      "include_colab_link": true
    },
    "kernelspec": {
      "name": "python3",
      "display_name": "Python 3"
    },
    "language_info": {
      "name": "python"
    }
  },
  "cells": [
    {
      "cell_type": "markdown",
      "metadata": {
        "id": "view-in-github",
        "colab_type": "text"
      },
      "source": [
        "<a href=\"https://colab.research.google.com/github/MonkeyWrenchGang/2023_BAN6005/blob/main/module_1/1_4_Syntax_101_Review.ipynb\" target=\"_parent\"><img src=\"https://colab.research.google.com/assets/colab-badge.svg\" alt=\"Open In Colab\"/></a>"
      ]
    },
    {
      "cell_type": "markdown",
      "source": [
        "# Basic Syntax Review\n",
        "\n",
        "In this notebook, let's review our basic syntax from day 1. Let's look at printing, working with numbers, and manipulating strings.\n",
        "\n",
        "\n",
        "\n"
      ],
      "metadata": {
        "id": "Ev3TuytmDNYl"
      }
    },
    {
      "cell_type": "markdown",
      "source": [
        "## `print()`\n",
        "\n",
        "Printing is one of the most basic but crucial operations in Python. It allows us to display information and debug our programs. The print() function takes one or more arguments (values or variables) and displays them as output.\n",
        "\n",
        "```python\n",
        "print(value1, value2, ...)\n",
        "```\n",
        "\n",
        "copy and paste:\n",
        "```python\n",
        "print(\"Hello, world!\")\n",
        "print(42)\n",
        "print(\"The answer is\", 42)\n",
        "```"
      ],
      "metadata": {
        "id": "HyVpQ2RcD2aJ"
      }
    },
    {
      "cell_type": "code",
      "execution_count": null,
      "metadata": {
        "id": "guEaOo0IDNBi"
      },
      "outputs": [],
      "source": []
    },
    {
      "cell_type": "markdown",
      "source": [
        "## `numbers`\n",
        "\n",
        "Python supports various numerical data types, including integers (int), floating-point numbers (float), and complex numbers (complex). These data types enable us to perform arithmetic operations and manipulate numerical data.\n",
        "\n",
        "```\n",
        "# Assigning values to variables\n",
        "variable_name = value\n",
        "\n",
        "# Basic arithmetic operations\n",
        "result = operand1 + operand2  # Addition\n",
        "result = operand1 - operand2  # Subtraction\n",
        "result = operand1 * operand2  # Multiplication\n",
        "result = operand1 / operand2  # Division\n",
        "result = operand1 % operand2  # Modulo (remainder)\n",
        "result = operand1 ** operand2 # Exponentiation\n",
        "\n",
        "# Incrementing and decrementing\n",
        "variable += increment_value  # Increment by a value\n",
        "variable -= decrement_value  # Decrement by a value\n",
        "```\n",
        "\n",
        "Copy, paste and run:\n",
        "```python\n",
        "x = 5\n",
        "y = 2\n",
        "\n",
        "print(x + y)  # Output: 7\n",
        "print(x - y)  # Output: 3\n",
        "print(x * y)  # Output: 10\n",
        "print(x / y)  # Output: 2.5\n",
        "print(x % y)  # Output: 1\n",
        "print(x ** y) # Output: 25\n",
        "\n",
        "# Incrementing and decrementing\n",
        "x += 1  # x is now 6\n",
        "y -= 1  # y is now 1\n",
        "print(x)\n",
        "print(y)\n",
        "```"
      ],
      "metadata": {
        "id": "5objYf4pERKU"
      }
    },
    {
      "cell_type": "code",
      "source": [],
      "metadata": {
        "colab": {
          "base_uri": "https://localhost:8080/"
        },
        "id": "e4WXFbj8EcbJ",
        "outputId": "14c936bb-3000-45b1-9f4a-958c98169468"
      },
      "execution_count": 1,
      "outputs": [
        {
          "output_type": "stream",
          "name": "stdout",
          "text": [
            "7\n",
            "3\n",
            "10\n",
            "2.5\n",
            "1\n",
            "25\n",
            "6\n",
            "1\n"
          ]
        }
      ]
    },
    {
      "cell_type": "markdown",
      "source": [
        "## `Strings`\n",
        "\n",
        "Strings are **sequences of characters** and are used to represent textual data in Python. They are enclosed in either single quotes (') or double quotes (\"). Strings support various operations and methods for manipulation, including concatenation, slicing, and formatting.\n",
        "\n",
        "```python\n",
        "# Assigning a string to a variable\n",
        "variable_name = \"string value\"\n",
        "\n",
        "# Concatenation\n",
        "concatenated_string = string1 + string2\n",
        "\n",
        "# String methods\n",
        "variable_name.method_name(arguments)\n",
        "\n",
        "```\n",
        "\n",
        "copy, paste and run:\n",
        "```python\n",
        "name = \"John\"\n",
        "age = 25\n",
        "\n",
        "print(\"My name is \" + name + \" and I am \" + str(age) + \" years old.\")\n",
        "print(\"My name is {} and I am {} years old.\".format(name, age))\n",
        "print(f\"My name is {name} and I am {age} years old.\")\n",
        "\n",
        "# String methods\n",
        "message = \"Hello, World!\"\n",
        "print(message.upper())      # Output: \"HELLO, WORLD!\"\n",
        "print(message.lower())      # Output: \"hello, world!\"\n",
        "print(message.startswith(\"H\"))  # Output: True\n",
        "print(message.endswith(\"d!\"))   # Output: True\n",
        "\n",
        "```"
      ],
      "metadata": {
        "id": "YSPm-DKPEpuv"
      }
    },
    {
      "cell_type": "code",
      "source": [],
      "metadata": {
        "id": "3qlAoxoWE7ZH"
      },
      "execution_count": null,
      "outputs": []
    }
  ]
}