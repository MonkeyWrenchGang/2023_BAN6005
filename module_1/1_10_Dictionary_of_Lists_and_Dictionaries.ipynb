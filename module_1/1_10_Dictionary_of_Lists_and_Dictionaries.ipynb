{
  "nbformat": 4,
  "nbformat_minor": 0,
  "metadata": {
    "colab": {
      "provenance": [],
      "authorship_tag": "ABX9TyOiSqNOO8T1W8tas1asz498",
      "include_colab_link": true
    },
    "kernelspec": {
      "name": "python3",
      "display_name": "Python 3"
    },
    "language_info": {
      "name": "python"
    }
  },
  "cells": [
    {
      "cell_type": "markdown",
      "metadata": {
        "id": "view-in-github",
        "colab_type": "text"
      },
      "source": [
        "<a href=\"https://colab.research.google.com/github/MonkeyWrenchGang/2023_BAN6005/blob/main/module_1/1_10_Dictionary_of_Lists_and_Dictionaries.ipynb\" target=\"_parent\"><img src=\"https://colab.research.google.com/assets/colab-badge.svg\" alt=\"Open In Colab\"/></a>"
      ]
    },
    {
      "cell_type": "markdown",
      "source": [
        "# Dictionaries Part 2\n",
        "\n",
        "\n",
        "---\n",
        "\n",
        "Dictionaries are super versatile data structures that allow you to store and organize data in key-value pairs. While a simple dictionary associates a single value with each key - this is not really useful. Instead, dictionaries are used to store more complex data structures, such as lists and nested dictionaries.\n",
        "\n",
        "In this notebook, we will explore two variations: the dictionary of lists and the dictionary of dictionaries.\n"
      ],
      "metadata": {
        "id": "h_06HpiDPD0Y"
      }
    },
    {
      "cell_type": "markdown",
      "source": [
        "## Dictionary of Lists:\n",
        "A dictionary of lists is a dictionary where each key maps to a list of values. This structure is useful when you want to associate multiple values with a single key. Each value in the list can be accessed using the corresponding key.\n",
        "\n",
        "given this dictionary of lists.\n",
        "```python\n",
        "marvel_superheroes = {\n",
        "    \"Iron Man\": [\"Tony Stark\", \"Genius\", \"Billionaire\", \"Playboy\", \"Philanthropist\"],\n",
        "    \"Spider-Man\": [\"Peter Parker\", \"Superhuman strength\", \"Web-slinging\", \"Spider-sense\"],\n",
        "    \"Captain America\": [\"Steve Rogers\", \"Enhanced strength\", \"Shield\", \"Leadership\"],\n",
        "    \"Thor\": [\"Thor Odinson\", \"God of Thunder\", \"Mjolnir\", \"Lightning powers\"],\n",
        "}\n",
        "\n",
        "```\n",
        "\n",
        "let's extract `Thor` and access his \"Lightning powers\""
      ],
      "metadata": {
        "id": "QOZRlFbdScpU"
      }
    },
    {
      "cell_type": "code",
      "execution_count": 11,
      "metadata": {
        "id": "WKX_IXHSPB7V"
      },
      "outputs": [],
      "source": [
        "marvel_superheroes = {\n",
        "    \"Iron Man\": [\"Tony Stark\", \"Genius\", \"Billionaire\", \"Playboy\", \"Philanthropist\"],\n",
        "    \"Spider-Man\": [\"Peter Parker\", \"Superhuman strength\", \"Web-slinging\", \"Spider-sense\"],\n",
        "    \"Captain America\": [\"Steve Rogers\", \"Enhanced strength\", \"Shield\", \"Leadership\"],\n",
        "    \"Thor\": [\"Thor Odinson\", \"God of Thunder\", \"Mjolnir\", \"Lightning powers\"],\n",
        "}\n"
      ]
    },
    {
      "cell_type": "code",
      "source": [
        "marvel_superheroes[\"Thor\"]"
      ],
      "metadata": {
        "colab": {
          "base_uri": "https://localhost:8080/"
        },
        "id": "r_vhsNzASwh_",
        "outputId": "a3aa3e5a-03f6-4000-c0e4-86119b6116a6"
      },
      "execution_count": 12,
      "outputs": [
        {
          "output_type": "execute_result",
          "data": {
            "text/plain": [
              "['Thor Odinson', 'God of Thunder', 'Mjolnir', 'Lightning powers']"
            ]
          },
          "metadata": {},
          "execution_count": 12
        }
      ]
    },
    {
      "cell_type": "code",
      "source": [
        "marvel_superheroes[\"Thor\"][3]"
      ],
      "metadata": {
        "colab": {
          "base_uri": "https://localhost:8080/",
          "height": 35
        },
        "id": "IwQnmACFS0Dv",
        "outputId": "3488506e-9c28-4d4b-ac8c-29c2932f1346"
      },
      "execution_count": 13,
      "outputs": [
        {
          "output_type": "execute_result",
          "data": {
            "text/plain": [
              "'Lightning powers'"
            ],
            "application/vnd.google.colaboratory.intrinsic+json": {
              "type": "string"
            }
          },
          "metadata": {},
          "execution_count": 13
        }
      ]
    },
    {
      "cell_type": "markdown",
      "source": [
        "## Dictionary of Dictionaries:\n",
        "A dictionary of dictionaries is a dictionary where each **key maps to another dictionary**. This is a common structure for organizing results from API calls - basically nested data structure.  Each nested dictionary can contain its own set of key-value pairs.\n",
        "\n",
        "Here is a dictionary of friends characters\n",
        "\n",
        "```python\n",
        "\n",
        "friends_characters = {\n",
        "    \"Rachel\": {\n",
        "        \"age\": 29,\n",
        "        \"occupation\": \"Fashion executive\",\n",
        "        \"hobbies\": [\"Shopping\", \"Traveling\"],\n",
        "        \"best_friends\": [\"Monica\", \"Phoebe\"]\n",
        "    },\n",
        "    \"Monica\": {\n",
        "        \"age\": 32,\n",
        "        \"occupation\": \"Head chef\",\n",
        "        \"hobbies\": [\"Cooking\", \"Cleaning\"],\n",
        "        \"best_friends\": [\"Rachel\", \"Chandler\"]\n",
        "    },\n",
        "    \"Phoebe\": {\n",
        "        \"age\": 31,\n",
        "        \"occupation\": \"Massage therapist\",\n",
        "        \"hobbies\": [\"Singing\", \"Playing guitar\"],\n",
        "        \"best_friends\": [\"Rachel\", \"Joey\"]\n",
        "    },\n",
        "    \"Chandler\": {\n",
        "        \"age\": 31,\n",
        "        \"occupation\": \"IT procurement manager\",\n",
        "        \"hobbies\": [\"Sarcasm\", \"Playing games\"],\n",
        "        \"best_friends\": [\"Joey\", \"Monica\"]\n",
        "    },\n",
        "    \"Joey\": {\n",
        "        \"age\": 30,\n",
        "        \"occupation\": \"Actor\",\n",
        "        \"hobbies\": [\"Eating\", \"Flirting\"],\n",
        "        \"best_friends\": [\"Chandler\", \"Phoebe\"]\n",
        "    }\n",
        "}\n",
        "\n",
        "```\n",
        "\n",
        "let's access \"Chandler\" and his \"occupation\""
      ],
      "metadata": {
        "id": "pkkDb0Y4S6Jm"
      }
    },
    {
      "cell_type": "code",
      "source": [
        "friends_characters = {\n",
        "    \"Rachel\": {\n",
        "        \"age\": 29,\n",
        "        \"occupation\": \"Fashion executive\",\n",
        "        \"hobbies\": [\"Shopping\", \"Traveling\"],\n",
        "        \"best_friends\": [\"Monica\", \"Phoebe\"]\n",
        "    },\n",
        "    \"Monica\": {\n",
        "        \"age\": 32,\n",
        "        \"occupation\": \"Head chef\",\n",
        "        \"hobbies\": [\"Cooking\", \"Cleaning\"],\n",
        "        \"best_friends\": [\"Rachel\", \"Chandler\"]\n",
        "    },\n",
        "    \"Phoebe\": {\n",
        "        \"age\": 31,\n",
        "        \"occupation\": \"Massage therapist\",\n",
        "        \"hobbies\": [\"Singing\", \"Playing guitar\"],\n",
        "        \"best_friends\": [\"Rachel\", \"Joey\"]\n",
        "    },\n",
        "    \"Chandler\": {\n",
        "        \"age\": 31,\n",
        "        \"occupation\": \"IT procurement manager\",\n",
        "        \"hobbies\": [\"Sarcasm\", \"Playing games\"],\n",
        "        \"best_friends\": [\"Joey\", \"Monica\"]\n",
        "    },\n",
        "    \"Joey\": {\n",
        "        \"age\": 30,\n",
        "        \"occupation\": \"Actor\",\n",
        "        \"hobbies\": [\"Eating\", \"Flirting\"],\n",
        "        \"best_friends\": [\"Chandler\", \"Phoebe\"]\n",
        "    }\n",
        "}\n"
      ],
      "metadata": {
        "id": "OcGA3uw9TQQ7"
      },
      "execution_count": 14,
      "outputs": []
    },
    {
      "cell_type": "code",
      "source": [
        "friends_characters['Chandler']['occupation']"
      ],
      "metadata": {
        "colab": {
          "base_uri": "https://localhost:8080/",
          "height": 35
        },
        "id": "OQOvb8xUTbp7",
        "outputId": "a01bc2a5-1410-468f-8a36-19710479eb8a"
      },
      "execution_count": 15,
      "outputs": [
        {
          "output_type": "execute_result",
          "data": {
            "text/plain": [
              "'IT procurement manager'"
            ],
            "application/vnd.google.colaboratory.intrinsic+json": {
              "type": "string"
            }
          },
          "metadata": {},
          "execution_count": 15
        }
      ]
    },
    {
      "cell_type": "markdown",
      "source": [
        "## How would you access ?\n",
        "\n",
        "the following:\n",
        "- Rachel's hobby \"Traveling\"\n",
        "- Chandler's best friend Joey\n",
        "- Monica's occupation\n"
      ],
      "metadata": {
        "id": "RjZWsWITThMB"
      }
    },
    {
      "cell_type": "code",
      "source": [],
      "metadata": {
        "id": "Lc6wOHgfUE2D"
      },
      "execution_count": null,
      "outputs": []
    },
    {
      "cell_type": "code",
      "source": [],
      "metadata": {
        "id": "6h1bvoedUE9r"
      },
      "execution_count": null,
      "outputs": []
    },
    {
      "cell_type": "code",
      "source": [],
      "metadata": {
        "id": "nnP33c53UFE5"
      },
      "execution_count": null,
      "outputs": []
    },
    {
      "cell_type": "markdown",
      "source": [
        "## How about Updating?\n",
        "\n",
        "suppose you want to update \"Monica\" with the following:  \n",
        "\n",
        "```\n",
        "\"Monica\": {\n",
        "        \"age\": 32,\n",
        "        \"occupation\": \"Head chef\",\n",
        "        \"hobbies\": [\"Cooking\", \"Cleaning\"],\n",
        "        \"best_friends\": [\"Rachel\", \"Chandler\"],\n",
        "        \"boyfriend\": \"Richard\"\n",
        "    },\n",
        "```\n"
      ],
      "metadata": {
        "id": "mgCvaQ7ZUFeL"
      }
    },
    {
      "cell_type": "code",
      "source": [],
      "metadata": {
        "id": "H3-3TRDZUXO4"
      },
      "execution_count": null,
      "outputs": []
    },
    {
      "cell_type": "markdown",
      "source": [
        "## Suppose you want to\n",
        "\n",
        "update her boyfriend \"Richard\" to \"Chander\" ?"
      ],
      "metadata": {
        "id": "2ac-l2boUZKF"
      }
    },
    {
      "cell_type": "code",
      "source": [],
      "metadata": {
        "id": "UbNlfTyvUetE"
      },
      "execution_count": null,
      "outputs": []
    }
  ]
}